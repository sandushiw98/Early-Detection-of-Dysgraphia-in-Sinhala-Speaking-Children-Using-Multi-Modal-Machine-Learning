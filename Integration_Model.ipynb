{
  "cells": [
    {
      "cell_type": "markdown",
      "metadata": {
        "id": "view-in-github",
        "colab_type": "text"
      },
      "source": [
        "<a href=\"https://colab.research.google.com/github/sandushiw98/Early-Detection-of-Dysgraphia-in-Sinhala-Speaking-Children-Using-Multi-Modal-Machine-Learning/blob/main/Integration_Model.ipynb\" target=\"_parent\"><img src=\"https://colab.research.google.com/assets/colab-badge.svg\" alt=\"Open In Colab\"/></a>"
      ]
    },
    {
      "cell_type": "markdown",
      "metadata": {
        "id": "uAe0QOaABBtI"
      },
      "source": [
        "# Mount Google Drive"
      ]
    },
    {
      "cell_type": "code",
      "execution_count": null,
      "metadata": {
        "colab": {
          "base_uri": "https://localhost:8080/"
        },
        "id": "H_7-HawxBAsG",
        "outputId": "b1f149a8-391e-4806-c97c-750f455add99"
      },
      "outputs": [
        {
          "output_type": "stream",
          "name": "stdout",
          "text": [
            "Mounted at /content/drive\n"
          ]
        }
      ],
      "source": [
        "from google.colab import drive\n",
        "drive.mount('/content/drive')"
      ]
    },
    {
      "cell_type": "markdown",
      "metadata": {
        "id": "PW_oTEpuAwwC"
      },
      "source": [
        "# Labeling the Handwriting Data"
      ]
    },
    {
      "cell_type": "code",
      "execution_count": null,
      "metadata": {
        "colab": {
          "base_uri": "https://localhost:8080/"
        },
        "id": "_wiJ2_NjsWD7",
        "outputId": "884b5dae-8df4-4289-fa7b-bd7a1baaf47e"
      },
      "outputs": [
        {
          "output_type": "stream",
          "name": "stdout",
          "text": [
            "Preprocessed image shape: (1, 256, 256)\n"
          ]
        }
      ],
      "source": [
        "import numpy as np\n",
        "import cv2\n",
        "\n",
        "# Preprocess the specific image\n",
        "image_path = '/content/drive/MyDrive/Research_Dysgraphia/Dysgraphia_Handwritings -Before_Preprocessing/1-daruwa.png'\n",
        "\n",
        "def preprocess_image(image_path, target_size=(256, 256)):\n",
        "    # Load image using OpenCV in grayscale\n",
        "    image = cv2.imread(image_path, cv2.IMREAD_GRAYSCALE)\n",
        "    if image is None:\n",
        "        raise ValueError(\"Image not found at the given path.\")\n",
        "\n",
        "    # Apply Gaussian blur to reduce noise\n",
        "    blurred_image = cv2.GaussianBlur(image, (5, 5), 0)\n",
        "\n",
        "    # Apply adaptive thresholding with refined parameters\n",
        "    thresh_image = cv2.adaptiveThreshold(blurred_image, 255, cv2.ADAPTIVE_THRESH_GAUSSIAN_C,\n",
        "                                         cv2.THRESH_BINARY_INV, 9, 4)\n",
        "\n",
        "    # Morphological erosion to clean up the image\n",
        "    kernel_erode = np.ones((2, 2), np.uint8)\n",
        "    morph_image = cv2.morphologyEx(thresh_image, cv2.MORPH_ERODE, kernel_erode)\n",
        "\n",
        "    # Apply a slight dilation to enhance the characters\n",
        "    kernel_dilate = np.ones((3, 3), np.uint8)\n",
        "    morph_image = cv2.morphologyEx(morph_image, cv2.MORPH_DILATE, kernel_dilate)\n",
        "\n",
        "    # Resize the processed image\n",
        "    resized_image = cv2.resize(morph_image, target_size)\n",
        "\n",
        "    # Normalize the image\n",
        "    normalized_image = resized_image / 255.0\n",
        "\n",
        "    # Add batch dimension\n",
        "    final_image = np.expand_dims(normalized_image, axis=0)\n",
        "\n",
        "    return final_image\n",
        "\n",
        "# Preprocess the image\n",
        "preprocessed_image = preprocess_image(image_path)\n",
        "print(f\"Preprocessed image shape: {preprocessed_image.shape}\")"
      ]
    },
    {
      "cell_type": "markdown",
      "metadata": {
        "id": "Wz9bwr-qIzw4"
      },
      "source": [
        "# Train the model with CNN\n"
      ]
    },
    {
      "cell_type": "code",
      "execution_count": null,
      "metadata": {
        "colab": {
          "base_uri": "https://localhost:8080/"
        },
        "id": "MNsTfh6I_YPQ",
        "outputId": "6b0a814d-1dc5-4341-f8b5-9398d4593cc2"
      },
      "outputs": [
        {
          "output_type": "stream",
          "name": "stderr",
          "text": [
            "WARNING:absl:Compiled the loaded model, but the compiled metrics have yet to be built. `model.compile_metrics` will be empty until you train or evaluate the model.\n"
          ]
        },
        {
          "output_type": "stream",
          "name": "stdout",
          "text": [
            "\u001b[1m1/1\u001b[0m \u001b[32m━━━━━━━━━━━━━━━━━━━━\u001b[0m\u001b[37m\u001b[0m \u001b[1m1s\u001b[0m 674ms/step\n",
            "Dysgraphic, please proceed to check your severity.\n",
            "Enter the path to your clinical data CSV file: /content/drive/MyDrive/Research_Dysgraphia/ANN-Unseen data.csv\n",
            "Clinical data path: /content/drive/MyDrive/Research_Dysgraphia/ANN-Unseen data.csv\n"
          ]
        }
      ],
      "source": [
        "import cv2\n",
        "import numpy as np\n",
        "from tensorflow.keras.models import load_model\n",
        "\n",
        "# Load the trained model\n",
        "model = load_model('/content/drive/MyDrive/Research_Dysgraphia/New_VGG16_model_fold_4.h5')  # Update the path to your model\n",
        "\n",
        "# Function to preprocess the input image\n",
        "def preprocess_image(image_path, target_size=(128, 128)):\n",
        "    # Load image using OpenCV\n",
        "    image = cv2.imread(image_path)\n",
        "    if image is None:\n",
        "        raise ValueError(\"Image not found at the given path.\")\n",
        "\n",
        "    # Resize the image\n",
        "    image = cv2.resize(image, target_size)\n",
        "\n",
        "    # Convert image to RGB (since OpenCV loads it as BGR)\n",
        "    image = cv2.cvtColor(image, cv2.COLOR_BGR2RGB)\n",
        "\n",
        "    # Normalize the image\n",
        "    image = image / 255.0\n",
        "\n",
        "    # Add batch dimension\n",
        "    image = np.expand_dims(image, axis=0)\n",
        "\n",
        "    return image\n",
        "\n",
        "# Predict function for a single image\n",
        "def predict_image(image_path):\n",
        "    # Preprocess the image\n",
        "    preprocessed_image = preprocess_image(image_path)\n",
        "\n",
        "    # Get the prediction\n",
        "    prediction = model.predict(preprocessed_image)\n",
        "\n",
        "    # Since the model is using a sigmoid activation function, output is between 0 and 1\n",
        "    if prediction[0][0] > 0.5:\n",
        "        print(\"Dysgraphic, please proceed to check your severity.\")\n",
        "        clinical_data_path = input(\"Enter the path to your clinical data CSV file: \")\n",
        "        print(f\"Clinical data path: {clinical_data_path}\")\n",
        "        # You can add further code here to process the CSV file if needed\n",
        "    else:\n",
        "        print(\"Non-Dysgraphic\")\n",
        "\n",
        "# Example usage\n",
        "image_path = '/content/drive/MyDrive/Research_Dysgraphia/Dysgraphia_Handwritings -Before_Preprocessing/1-daruwa.png'\n",
        "predict_image(image_path)\n"
      ]
    },
    {
      "cell_type": "code",
      "source": [
        "import pandas as pd\n",
        "import joblib\n",
        "\n",
        "# Load the normalized clinical data CSV file\n",
        "normalized_file_path = '/content/drive/MyDrive/Research_Dysgraphia/ANN-Unseen data.csv'\n",
        "data = pd.read_csv(normalized_file_path)\n",
        "\n",
        "# Drop columns that should not be used for prediction (e.g., target labels)\n",
        "data = data.drop(columns=['severity'], errors='ignore')\n",
        "\n",
        "# Load the pre-trained model pipeline\n",
        "pipeline = joblib.load('/content/drive/MyDrive/Research_Dysgraphia/svmfinal_pipeline_fold1.pkl')\n",
        "\n",
        "# Attempt to extract feature names from the model pipeline, if possible\n",
        "try:\n",
        "    expected_features = pipeline.feature_names_in_\n",
        "except AttributeError:\n",
        "    # If feature names are not available, fallback to using the column names of the unseen data\n",
        "    expected_features = data.columns\n",
        "\n",
        "# Strip any leading/trailing spaces from column names in the unseen data\n",
        "data.columns = data.columns.str.strip()\n",
        "\n",
        "# Ensure unseen data matches the training feature names exactly\n",
        "data = data.reindex(columns=expected_features, fill_value=0)\n",
        "\n",
        "# Make predictions using the loaded pipeline\n",
        "predictions = pipeline.predict(data)\n",
        "\n",
        "# Print the prediction results\n",
        "print(\"Predictions:\", predictions)\n"
      ],
      "metadata": {
        "colab": {
          "base_uri": "https://localhost:8080/"
        },
        "id": "o0pJB8-MJXHw",
        "outputId": "0241f36e-dfe8-4ce5-f9bb-01e88ff8ed66"
      },
      "execution_count": null,
      "outputs": [
        {
          "output_type": "stream",
          "name": "stdout",
          "text": [
            "Predictions: ['High']\n"
          ]
        }
      ]
    }
  ],
  "metadata": {
    "colab": {
      "provenance": [],
      "include_colab_link": true
    },
    "kernelspec": {
      "display_name": "Python 3",
      "name": "python3"
    },
    "language_info": {
      "name": "python"
    }
  },
  "nbformat": 4,
  "nbformat_minor": 0
}