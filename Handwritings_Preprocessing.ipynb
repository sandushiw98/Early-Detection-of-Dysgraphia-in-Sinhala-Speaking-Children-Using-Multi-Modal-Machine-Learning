{
  "cells": [
    {
      "cell_type": "markdown",
      "metadata": {
        "id": "view-in-github",
        "colab_type": "text"
      },
      "source": [
        "<a href=\"https://colab.research.google.com/github/sandushiw98/Early-Detection-of-Dysgraphia-in-Sinhala-Speaking-Children-Using-Multi-Modal-Machine-Learning/blob/main/Handwritings_Preprocessing.ipynb\" target=\"_parent\"><img src=\"https://colab.research.google.com/assets/colab-badge.svg\" alt=\"Open In Colab\"/></a>"
      ]
    },
    {
      "cell_type": "code",
      "execution_count": null,
      "metadata": {
        "colab": {
          "base_uri": "https://localhost:8080/"
        },
        "id": "m1FVtf8Ps4F5",
        "outputId": "2dcab31a-65dc-4bbc-d2ad-b45313cf3e10"
      },
      "outputs": [
        {
          "output_type": "stream",
          "name": "stdout",
          "text": [
            "Mounted at /content/drive\n"
          ]
        }
      ],
      "source": [
        "from google.colab import drive\n",
        "drive.mount('/content/drive')\n"
      ]
    },
    {
      "cell_type": "code",
      "execution_count": null,
      "metadata": {
        "colab": {
          "base_uri": "https://localhost:8080/"
        },
        "id": "IoNE85XUtHxq",
        "outputId": "559295a0-486a-4a4f-fb34-0786b4e0b8ff"
      },
      "outputs": [
        {
          "output_type": "stream",
          "name": "stdout",
          "text": [
            "Processing complete. Processed 73 images.\n"
          ]
        }
      ],
      "source": [
        "import cv2\n",
        "import os\n",
        "import numpy as np\n",
        "\n",
        "# Define the paths\n",
        "input_folder = '/content/drive/MyDrive/Research_Dysgraphia/Dysgraphia_Handwritings -Before_Preprocessing'\n",
        "output_folder = '/content/drive/MyDrive/Research_Dysgraphia/Preprocessed_Dysgraphic_Words'\n",
        "\n",
        "# Desired size for all images\n",
        "desired_size = (256, 256)\n",
        "\n",
        "# Create the output folder if it does not exist\n",
        "if not os.path.exists(output_folder):\n",
        "    os.makedirs(output_folder)\n",
        "\n",
        "processed_count = 0  # Counter to track how many images are processed\n",
        "\n",
        "# Process each image in the input folder\n",
        "for index, filename in enumerate(os.listdir(input_folder), start=1):  # Start counting from 1\n",
        "    file_path = os.path.join(input_folder, filename)\n",
        "    file_extension = os.path.splitext(filename)[1].lower()\n",
        "\n",
        "    if file_extension in [\".jpg\", \".jpeg\", \".png\"]:  # Process JPG, JPEG, and PNG images\n",
        "        try:\n",
        "            # Read and process the image in grayscale\n",
        "            image = cv2.imread(file_path, cv2.IMREAD_GRAYSCALE)\n",
        "            if image is None:\n",
        "                raise ValueError(f\"Unable to read the image {filename}\")\n",
        "\n",
        "            # Apply Gaussian blur to reduce noise\n",
        "            blurred_image = cv2.GaussianBlur(image, (5, 5), 0)\n",
        "\n",
        "            # Apply adaptive thresholding with refined parameters\n",
        "            thresh_image = cv2.adaptiveThreshold(blurred_image, 255, cv2.ADAPTIVE_THRESH_GAUSSIAN_C,\n",
        "                                                 cv2.THRESH_BINARY_INV, 9, 4)\n",
        "\n",
        "            # Morphological erosion to clean up the image\n",
        "            kernel_erode = np.ones((2,2), np.uint8)\n",
        "            morph_image = cv2.morphologyEx(thresh_image, cv2.MORPH_ERODE, kernel_erode)\n",
        "\n",
        "            # Apply a slight dilation to enhance the characters\n",
        "            kernel_dilate = np.ones((3,3), np.uint8)  # Slightly larger kernel for dilation\n",
        "            morph_image = cv2.morphologyEx(morph_image, cv2.MORPH_DILATE, kernel_dilate)\n",
        "\n",
        "            # Resize the processed image\n",
        "            resized_image = cv2.resize(morph_image, desired_size)\n",
        "\n",
        "            # Generate a new filename with custom labeling and save as PNG\n",
        "            new_filename = f\"DH{index}.png\"\n",
        "            output_path = os.path.join(output_folder, new_filename)\n",
        "            cv2.imwrite(output_path, resized_image)\n",
        "            processed_count += 1\n",
        "\n",
        "        except Exception as e:\n",
        "            print(f\"Error processing {filename}: {e}\")\n",
        "\n",
        "print(f\"Processing complete. Processed {processed_count} images.\")\n"
      ]
    },
    {
      "cell_type": "code",
      "execution_count": null,
      "metadata": {
        "colab": {
          "base_uri": "https://localhost:8080/"
        },
        "id": "BxzWoLiH_oJ_",
        "outputId": "4cf77c95-2a33-4085-b404-a74dd3123329"
      },
      "outputs": [
        {
          "output_type": "stream",
          "name": "stdout",
          "text": [
            "Processing complete. Processed 306 images.\n"
          ]
        }
      ],
      "source": [
        "import cv2\n",
        "import os\n",
        "import numpy as np\n",
        "\n",
        "# Define the paths\n",
        "input_folder = '/content/drive/MyDrive/Research_Dysgraphia/Normal_Handwritings-Before_Preprocessing'\n",
        "output_folder = '/content/drive/MyDrive/Research_Dysgraphia/preprocessed_Non_Dysgraphic_Letters'\n",
        "\n",
        "# Desired size for all images\n",
        "desired_size = (256, 256)\n",
        "\n",
        "# Create the output folder if it does not exist\n",
        "if not os.path.exists(output_folder):\n",
        "    os.makedirs(output_folder)\n",
        "\n",
        "processed_count = 0  # Counter to track how many images are processed\n",
        "\n",
        "# Process each image in the input folder\n",
        "for index, filename in enumerate(os.listdir(input_folder), start=1):  # Start counting from 1\n",
        "    if filename.lower().endswith(\".jpeg\"):  # Only process JPEG images\n",
        "        file_path = os.path.join(input_folder, filename)\n",
        "\n",
        "        try:\n",
        "            # Read and process the image\n",
        "            image = cv2.imread(file_path, cv2.IMREAD_GRAYSCALE)\n",
        "            if image is None:\n",
        "                raise ValueError(f\"Unable to read the image {filename}\")\n",
        "\n",
        "            # Apply median blur to reduce salt-and-pepper noise\n",
        "            median_filtered = cv2.medianBlur(image, 5)\n",
        "\n",
        "            # Apply adaptive thresholding\n",
        "            thresh_image = cv2.adaptiveThreshold(median_filtered, 255, cv2.ADAPTIVE_THRESH_GAUSSIAN_C,\n",
        "                                                 cv2.THRESH_BINARY_INV, 11, 2)\n",
        "\n",
        "            # Morphological operations to clean up image\n",
        "            kernel = np.ones((3,3), np.uint8)\n",
        "            morph_image = cv2.morphologyEx(thresh_image, cv2.MORPH_OPEN, kernel)\n",
        "\n",
        "            # Identify and remove small objects using connected components\n",
        "            num_labels, labels, stats, centroids = cv2.connectedComponentsWithStats(morph_image, connectivity=8, ltype=cv2.CV_32S)\n",
        "            areas = stats[1:, cv2.CC_STAT_AREA]  # Get the area of each component\n",
        "            result_image = morph_image.copy()\n",
        "\n",
        "            # Threshold for determining the size of noise to remove\n",
        "            for i in range(1, num_labels):  # Start from 1 to ignore the background\n",
        "                if areas[i - 1] < 30:  # Threshold for small objects; adjust as needed\n",
        "                    result_image[labels == i] = 0\n",
        "\n",
        "            # Resize the processed image\n",
        "            resized_image = cv2.resize(result_image, desired_size)\n",
        "\n",
        "            # Save the processed image in PNG format with custom labeling\n",
        "            output_filename = f\"NDH{index}.png\"  # Custom labeling as per your requirement\n",
        "            output_path = os.path.join(output_folder, output_filename)\n",
        "            cv2.imwrite(output_path, resized_image)\n",
        "            processed_count += 1\n",
        "\n",
        "        except Exception as e:\n",
        "            print(f\"Error processing {filename}: {e}\")\n",
        "\n",
        "print(f\"Processing complete. Processed {processed_count} images.\")\n"
      ]
    }
  ],
  "metadata": {
    "colab": {
      "provenance": [],
      "gpuType": "T4",
      "authorship_tag": "ABX9TyNw6DmWiI60JKc0K4xr8To2",
      "include_colab_link": true
    },
    "kernelspec": {
      "display_name": "Python 3",
      "name": "python3"
    },
    "language_info": {
      "name": "python"
    },
    "accelerator": "GPU"
  },
  "nbformat": 4,
  "nbformat_minor": 0
}